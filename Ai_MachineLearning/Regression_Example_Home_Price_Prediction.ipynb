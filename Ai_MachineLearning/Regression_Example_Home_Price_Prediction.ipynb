{
  "metadata": {
    "kernelspec": {
      "language": "python",
      "display_name": "Python 3",
      "name": "python3"
    },
    "language_info": {
      "name": "python",
      "version": "3.11.13",
      "mimetype": "text/x-python",
      "codemirror_mode": {
        "name": "ipython",
        "version": 3
      },
      "pygments_lexer": "ipython3",
      "nbconvert_exporter": "python",
      "file_extension": ".py"
    },
    "kaggle": {
      "accelerator": "none",
      "dataSources": [
        {
          "sourceId": 3036086,
          "sourceType": "datasetVersion",
          "datasetId": 1859421
        }
      ],
      "dockerImageVersionId": 31089,
      "isInternetEnabled": false,
      "language": "python",
      "sourceType": "notebook",
      "isGpuEnabled": false
    },
    "colab": {
      "name": "Regression Example - Home Price Prediction",
      "provenance": [],
      "include_colab_link": true
    }
  },
  "nbformat_minor": 0,
  "nbformat": 4,
  "cells": [
    {
      "cell_type": "markdown",
      "metadata": {
        "id": "view-in-github",
        "colab_type": "text"
      },
      "source": [
        "<a href=\"https://colab.research.google.com/github/Venura-Shiromal/Ai-session-term1/blob/main/Ai_MachineLearning/Regression_Example_Home_Price_Prediction.ipynb\" target=\"_parent\"><img src=\"https://colab.research.google.com/assets/colab-badge.svg\" alt=\"Open In Colab\"/></a>"
      ]
    },
    {
      "source": [
        "# IMPORTANT: RUN THIS CELL IN ORDER TO IMPORT YOUR KAGGLE DATA SOURCES,\n",
        "# THEN FEEL FREE TO DELETE THIS CELL.\n",
        "# NOTE: THIS NOTEBOOK ENVIRONMENT DIFFERS FROM KAGGLE'S PYTHON\n",
        "# ENVIRONMENT SO THERE MAY BE MISSING LIBRARIES USED BY YOUR\n",
        "# NOTEBOOK.\n",
        "import kagglehub\n",
        "yasserh_housing_prices_dataset_path = kagglehub.dataset_download('yasserh/housing-prices-dataset')\n",
        "\n",
        "print('Data source import complete.')\n"
      ],
      "metadata": {
        "id": "Qz8mK35Ifclk"
      },
      "cell_type": "code",
      "outputs": [],
      "execution_count": null
    },
    {
      "cell_type": "markdown",
      "source": [
        "# Setup"
      ],
      "metadata": {
        "id": "lYciA3_6fclo"
      }
    },
    {
      "cell_type": "code",
      "source": [
        "# Import required libraries\n",
        "import pandas as pd\n",
        "import numpy as np\n",
        "import matplotlib.pyplot as plt\n",
        "from sklearn.model_selection import train_test_split\n",
        "from sklearn.linear_model import LinearRegression\n",
        "from sklearn.metrics import mean_absolute_error\n",
        "\n",
        "# Read the dataset\n",
        "pd.set_option('display.precision', 2)\n",
        "df = pd.read_csv('/kaggle/input/housing-prices-dataset/Housing.csv')"
      ],
      "metadata": {
        "_uuid": "8f2839f25d086af736a60e9eeb907d3b93b6e0e5",
        "_cell_guid": "b1076dfc-b9ad-4769-8c92-a6c4dae69d19",
        "trusted": true,
        "execution": {
          "iopub.status.busy": "2025-09-19T18:13:16.707684Z",
          "iopub.execute_input": "2025-09-19T18:13:16.708817Z",
          "iopub.status.idle": "2025-09-19T18:13:17.944993Z",
          "shell.execute_reply.started": "2025-09-19T18:13:16.708776Z",
          "shell.execute_reply": "2025-09-19T18:13:17.943936Z"
        },
        "id": "lfIzn1GWfclq"
      },
      "outputs": [],
      "execution_count": null
    },
    {
      "cell_type": "markdown",
      "source": [
        "# Data"
      ],
      "metadata": {
        "id": "ILoOpGdufcls"
      }
    },
    {
      "cell_type": "code",
      "source": [
        "# Select relevant features and target variable\n",
        "columns = ['price', 'area', 'bedrooms', 'bathrooms', 'stories', 'basement', 'guestroom']\n",
        "df = df[columns]"
      ],
      "metadata": {
        "trusted": true,
        "execution": {
          "iopub.status.busy": "2025-09-19T18:13:17.946876Z",
          "iopub.execute_input": "2025-09-19T18:13:17.947209Z",
          "iopub.status.idle": "2025-09-19T18:13:17.964915Z",
          "shell.execute_reply.started": "2025-09-19T18:13:17.94718Z",
          "shell.execute_reply": "2025-09-19T18:13:17.96387Z"
        },
        "id": "xzNa9yGLfclt"
      },
      "outputs": [],
      "execution_count": null
    },
    {
      "cell_type": "code",
      "source": [
        "# Inspect data rows\n",
        "df.head()"
      ],
      "metadata": {
        "trusted": true,
        "execution": {
          "iopub.status.busy": "2025-09-19T18:13:17.965919Z",
          "iopub.execute_input": "2025-09-19T18:13:17.966269Z",
          "iopub.status.idle": "2025-09-19T18:13:18.00615Z",
          "shell.execute_reply.started": "2025-09-19T18:13:17.96624Z",
          "shell.execute_reply": "2025-09-19T18:13:18.00509Z"
        },
        "id": "08VmcOETfclu"
      },
      "outputs": [],
      "execution_count": null
    },
    {
      "cell_type": "code",
      "source": [
        "# Check for missing values\n",
        "df.isnull().sum()"
      ],
      "metadata": {
        "trusted": true,
        "execution": {
          "iopub.status.busy": "2025-09-19T18:13:18.008035Z",
          "iopub.execute_input": "2025-09-19T18:13:18.008323Z",
          "iopub.status.idle": "2025-09-19T18:13:18.016284Z",
          "shell.execute_reply.started": "2025-09-19T18:13:18.008302Z",
          "shell.execute_reply": "2025-09-19T18:13:18.015461Z"
        },
        "id": "rZzojB6ofclv"
      },
      "outputs": [],
      "execution_count": null
    },
    {
      "cell_type": "code",
      "source": [
        "# Create plot for each data feature against price\n",
        "features = ['area', 'bedrooms', 'bathrooms', 'stories', 'basement', 'guestroom']\n",
        "fig, axes = plt.subplots(2, 3, figsize=(20, 12))\n",
        "fig.suptitle('Home Price vs Features', fontsize=16)\n",
        "\n",
        "axes = axes.ravel()\n",
        "for idx, feature in enumerate(features):\n",
        "    axes[idx].scatter(df['price'], df[feature], alpha=0.5)\n",
        "    axes[idx].set_xlabel('Home Price ($)')\n",
        "    axes[idx].set_ylabel(feature.capitalize())\n",
        "    axes[idx].set_title(f'Price vs {feature.capitalize()}')\n",
        "\n",
        "    # Format price labels\n",
        "    axes[idx].xaxis.set_major_formatter(plt.FuncFormatter(lambda x, p: f'${x:,.0f}'))\n",
        "\n",
        "plt.tight_layout()\n",
        "plt.show()"
      ],
      "metadata": {
        "trusted": true,
        "execution": {
          "iopub.status.busy": "2025-09-19T18:13:18.017104Z",
          "iopub.execute_input": "2025-09-19T18:13:18.017413Z",
          "iopub.status.idle": "2025-09-19T18:13:19.331804Z",
          "shell.execute_reply.started": "2025-09-19T18:13:18.017385Z",
          "shell.execute_reply": "2025-09-19T18:13:19.330587Z"
        },
        "id": "L-ilMm5ofclx"
      },
      "outputs": [],
      "execution_count": null
    },
    {
      "cell_type": "markdown",
      "source": [
        "# Preprocessing"
      ],
      "metadata": {
        "id": "TSJvEDd5fcl0"
      }
    },
    {
      "cell_type": "code",
      "source": [
        "# Convert non-numeric columns to numerical features\n",
        "categorial_cols = ['basement', 'guestroom']\n",
        "df[categorial_cols] = df[categorial_cols].map(lambda x: {'yes': 1, 'no': 0}[x])"
      ],
      "metadata": {
        "trusted": true,
        "execution": {
          "iopub.status.busy": "2025-09-19T18:13:19.332856Z",
          "iopub.execute_input": "2025-09-19T18:13:19.333157Z",
          "iopub.status.idle": "2025-09-19T18:13:19.341462Z",
          "shell.execute_reply.started": "2025-09-19T18:13:19.333135Z",
          "shell.execute_reply": "2025-09-19T18:13:19.340479Z"
        },
        "id": "mXJrja0Cfcl1"
      },
      "outputs": [],
      "execution_count": null
    },
    {
      "cell_type": "code",
      "source": [
        "df.head()"
      ],
      "metadata": {
        "trusted": true,
        "execution": {
          "iopub.status.busy": "2025-09-19T18:13:19.342805Z",
          "iopub.execute_input": "2025-09-19T18:13:19.343148Z",
          "iopub.status.idle": "2025-09-19T18:13:19.373057Z",
          "shell.execute_reply.started": "2025-09-19T18:13:19.343125Z",
          "shell.execute_reply": "2025-09-19T18:13:19.371903Z"
        },
        "id": "IYqcTBR8fcl1"
      },
      "outputs": [],
      "execution_count": null
    },
    {
      "cell_type": "markdown",
      "source": [
        "# Feature Extraction"
      ],
      "metadata": {
        "id": "1g38lWGzfcl2"
      }
    },
    {
      "cell_type": "code",
      "source": [
        "# Separate features and target variable\n",
        "X = df.drop('price', axis=1)\n",
        "y = df['price']\n",
        "\n",
        "print(\"Features shape:\", X.shape)\n",
        "print(\"Target shape:\", y.shape)"
      ],
      "metadata": {
        "trusted": true,
        "execution": {
          "iopub.status.busy": "2025-09-19T18:13:19.374263Z",
          "iopub.execute_input": "2025-09-19T18:13:19.374612Z",
          "iopub.status.idle": "2025-09-19T18:13:19.395899Z",
          "shell.execute_reply.started": "2025-09-19T18:13:19.374574Z",
          "shell.execute_reply": "2025-09-19T18:13:19.39497Z"
        },
        "id": "AR-52Ko3fcl2"
      },
      "outputs": [],
      "execution_count": null
    },
    {
      "cell_type": "markdown",
      "source": [
        "# Train/Test Split"
      ],
      "metadata": {
        "id": "ioRdPKo_fcl2"
      }
    },
    {
      "cell_type": "code",
      "source": [
        "# Split the data into training and testing sets\n",
        "X_train, X_test, y_train, y_test = train_test_split(X, y, test_size=0.1, random_state=45)\n",
        "\n",
        "print(\"Training set shapes:\")\n",
        "print(\"X_train:\", X_train.shape)\n",
        "print(\"y_train:\", y_train.shape)\n",
        "print(\"\\nTesting set shapes:\")\n",
        "print(\"X_test:\", X_test.shape)\n",
        "print(\"y_test:\", y_test.shape)"
      ],
      "metadata": {
        "trusted": true,
        "execution": {
          "iopub.status.busy": "2025-09-19T18:13:19.396863Z",
          "iopub.execute_input": "2025-09-19T18:13:19.397127Z",
          "iopub.status.idle": "2025-09-19T18:13:19.422198Z",
          "shell.execute_reply.started": "2025-09-19T18:13:19.397107Z",
          "shell.execute_reply": "2025-09-19T18:13:19.42115Z"
        },
        "id": "hNJqLmZXfcl3"
      },
      "outputs": [],
      "execution_count": null
    },
    {
      "cell_type": "markdown",
      "source": [
        "# Model Training"
      ],
      "metadata": {
        "id": "uq_FPXRPfcl3"
      }
    },
    {
      "cell_type": "markdown",
      "source": [
        "## $$ \\hat{y}(w, x) = w_0 + w_1 x_1 + ... + w_p x_p $$\n",
        "\n",
        "LinearRegression fits a linear model with coefficients $ w = (w_1, ..., w_p) $ (weights) to minimize the residual sum of squares (loss function) between the observed targets (labels) in the dataset, and the targets predicted by the linear approximation (model predictions.\n",
        "\n",
        "Uses Ordinary Least Squares as optimization function.\n",
        "\n",
        "[Ordinary Least Squares](https://scikit-learn.org/stable/modules/linear_model.html#ordinary-least-squares)"
      ],
      "metadata": {
        "id": "xE1-yP5tfcl3"
      }
    },
    {
      "cell_type": "code",
      "source": [
        "# Create and train the model\n",
        "model = LinearRegression()\n",
        "model.fit(X_train, y_train)"
      ],
      "metadata": {
        "trusted": true,
        "execution": {
          "iopub.status.busy": "2025-09-19T18:13:19.424788Z",
          "iopub.execute_input": "2025-09-19T18:13:19.425123Z",
          "iopub.status.idle": "2025-09-19T18:13:19.467938Z",
          "shell.execute_reply.started": "2025-09-19T18:13:19.425102Z",
          "shell.execute_reply": "2025-09-19T18:13:19.466821Z"
        },
        "id": "dL2PlwZtfcl3"
      },
      "outputs": [],
      "execution_count": null
    },
    {
      "cell_type": "markdown",
      "source": [
        "# Evaluation"
      ],
      "metadata": {
        "id": "edEhqAZyfcl3"
      }
    },
    {
      "cell_type": "code",
      "source": [
        "# Make predictions on test set\n",
        "y_pred = model.predict(X_test)\n",
        "\n",
        "# Calculate evaluation metric\n",
        "mae = mean_absolute_error(y_test, y_pred)\n",
        "print(f\"Mean Absolute Error: ${mae:,.2f}\") # average dollar error"
      ],
      "metadata": {
        "trusted": true,
        "execution": {
          "iopub.status.busy": "2025-09-19T18:13:19.469215Z",
          "iopub.execute_input": "2025-09-19T18:13:19.469653Z",
          "iopub.status.idle": "2025-09-19T18:13:19.47768Z",
          "shell.execute_reply.started": "2025-09-19T18:13:19.469623Z",
          "shell.execute_reply": "2025-09-19T18:13:19.4769Z"
        },
        "id": "dpa-IkFZfcl3"
      },
      "outputs": [],
      "execution_count": null
    },
    {
      "cell_type": "code",
      "source": [
        "actual_prices = y_test\n",
        "predicted_prices = y_pred\n",
        "\n",
        "# Create list of difference between actual and predicted prices\n",
        "difference = (predicted_prices - actual_prices)"
      ],
      "metadata": {
        "trusted": true,
        "execution": {
          "iopub.status.busy": "2025-09-19T18:13:19.478783Z",
          "iopub.execute_input": "2025-09-19T18:13:19.479773Z",
          "iopub.status.idle": "2025-09-19T18:13:19.500322Z",
          "shell.execute_reply.started": "2025-09-19T18:13:19.479741Z",
          "shell.execute_reply": "2025-09-19T18:13:19.499114Z"
        },
        "id": "zqmr3mGHfcl4"
      },
      "outputs": [],
      "execution_count": null
    },
    {
      "cell_type": "code",
      "source": [
        "# Generate plot comparing actual prices to predicted prices\n",
        "plt.figure(figsize=(10, 6))\n",
        "plt.scatter(actual_prices, predicted_prices, alpha=0.5)\n",
        "plt.plot([actual_prices.min(), actual_prices.max()], [actual_prices.min(), actual_prices.max()], 'r--', lw=2)\n",
        "plt.xlabel('Actual Price ($)')\n",
        "plt.ylabel('Predicted Price ($)')\n",
        "plt.title('Actual vs Predicted House Prices')\n",
        "\n",
        "# Format axis labels to show prices in millions\n",
        "plt.gca().xaxis.set_major_formatter(plt.FuncFormatter(lambda x, p: f'${x:,.0f}'))\n",
        "plt.gca().yaxis.set_major_formatter(plt.FuncFormatter(lambda x, p: f'${x:,.0f}'))\n",
        "\n",
        "plt.tight_layout()\n",
        "plt.show()"
      ],
      "metadata": {
        "trusted": true,
        "execution": {
          "iopub.status.busy": "2025-09-19T18:13:19.501311Z",
          "iopub.execute_input": "2025-09-19T18:13:19.501603Z",
          "iopub.status.idle": "2025-09-19T18:13:19.727602Z",
          "shell.execute_reply.started": "2025-09-19T18:13:19.501582Z",
          "shell.execute_reply": "2025-09-19T18:13:19.726254Z"
        },
        "id": "ru0sDDa-fcl4"
      },
      "outputs": [],
      "execution_count": null
    },
    {
      "cell_type": "code",
      "source": [
        "# Generate plot comparing actual prices to prediction differences\n",
        "plt.figure(figsize=(10, 6))\n",
        "plt.scatter(actual_prices, difference, alpha=0.5)\n",
        "plt.plot([actual_prices.min(), actual_prices.max()], [0, 0], 'r--', lw=2)\n",
        "plt.xlabel('Actual Price ($)')\n",
        "plt.ylabel('Amount Difference ($)')\n",
        "plt.title('Actual Price vs Predicted Difference')\n",
        "\n",
        "# Format axis labels to show prices in millions\n",
        "plt.gca().xaxis.set_major_formatter(plt.FuncFormatter(lambda x, p: f'${x:,.0f}'))\n",
        "plt.gca().yaxis.set_major_formatter(plt.FuncFormatter(lambda x, p: f'${x:,.0f}'))\n",
        "\n",
        "plt.tight_layout()\n",
        "plt.show()"
      ],
      "metadata": {
        "trusted": true,
        "execution": {
          "iopub.status.busy": "2025-09-19T18:13:19.728632Z",
          "iopub.execute_input": "2025-09-19T18:13:19.728966Z",
          "iopub.status.idle": "2025-09-19T18:13:19.948586Z",
          "shell.execute_reply.started": "2025-09-19T18:13:19.728943Z",
          "shell.execute_reply": "2025-09-19T18:13:19.947375Z"
        },
        "id": "qXXpFc0Jfcl4"
      },
      "outputs": [],
      "execution_count": null
    }
  ]
}