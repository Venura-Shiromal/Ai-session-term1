{
  "nbformat": 4,
  "nbformat_minor": 0,
  "metadata": {
    "colab": {
      "provenance": [],
      "authorship_tag": "ABX9TyNZntfO5ynQTBYvfy+9/2/a",
      "include_colab_link": true
    },
    "kernelspec": {
      "name": "python3",
      "display_name": "Python 3"
    },
    "language_info": {
      "name": "python"
    }
  },
  "cells": [
    {
      "cell_type": "markdown",
      "metadata": {
        "id": "view-in-github",
        "colab_type": "text"
      },
      "source": [
        "<a href=\"https://colab.research.google.com/github/Venura-Shiromal/Ai-session-term1/blob/main/ML_Algorithms.ipynb\" target=\"_parent\"><img src=\"https://colab.research.google.com/assets/colab-badge.svg\" alt=\"Open In Colab\"/></a>"
      ]
    },
    {
      "cell_type": "markdown",
      "metadata": {
        "id": "514eee12"
      },
      "source": [
        "### Polynomial Regression\n",
        "This involves adding polynomial features to your data and then using a linear model. Scikit-learn provides `PolynomialFeatures` for creating the polynomial features."
      ]
    },
    {
      "cell_type": "code",
      "metadata": {
        "id": "4a83dd80"
      },
      "source": [
        "from sklearn.preprocessing import PolynomialFeatures\n",
        "from sklearn.linear_model import LinearRegression\n",
        "from sklearn.pipeline import make_pipeline\n",
        "\n",
        "# Create a pipeline that first transforms the features and then applies linear regression\n",
        "poly_model = make_pipeline(PolynomialFeatures(degree=2), LinearRegression())\n",
        "\n",
        "# You would then train this model:\n",
        "# poly_model.fit(X_train, y_train)\n",
        "# y_pred_poly = poly_model.predict(X_test)"
      ],
      "execution_count": null,
      "outputs": []
    },
    {
      "cell_type": "markdown",
      "metadata": {
        "id": "9a58a3b3"
      },
      "source": [
        "### Decision Tree Regressor\n",
        "A single decision tree can capture non-linear relationships."
      ]
    },
    {
      "cell_type": "code",
      "metadata": {
        "id": "a033cf5e"
      },
      "source": [
        "from sklearn.tree import DecisionTreeRegressor\n",
        "\n",
        "tree_model = DecisionTreeRegressor(random_state=42)\n",
        "\n",
        "# You would then train this model:\n",
        "# tree_model.fit(X_train, y_train)\n",
        "# y_pred_tree = tree_model.predict(X_test)"
      ],
      "execution_count": null,
      "outputs": []
    },
    {
      "cell_type": "markdown",
      "metadata": {
        "id": "0f76e547"
      },
      "source": [
        "### Random Forest Regressor\n",
        "An ensemble of decision trees, often providing better performance and robustness."
      ]
    },
    {
      "cell_type": "code",
      "metadata": {
        "id": "f50953f0"
      },
      "source": [
        "from sklearn.ensemble import RandomForestRegressor\n",
        "\n",
        "forest_model = RandomForestRegressor(n_estimators=100, random_state=42)\n",
        "\n",
        "# You would then train this model:\n",
        "# forest_model.fit(X_train, y_train)\n",
        "# y_pred_forest = forest_model.predict(X_test)"
      ],
      "execution_count": null,
      "outputs": []
    },
    {
      "cell_type": "markdown",
      "metadata": {
        "id": "a8df6c39"
      },
      "source": [
        "### Support Vector Regressor (SVR) with a non-linear kernel\n",
        "Using a kernel like 'rbf' allows SVR to model non-linear patterns."
      ]
    },
    {
      "cell_type": "code",
      "metadata": {
        "id": "aa74bab0"
      },
      "source": [
        "from sklearn.svm import SVR\n",
        "\n",
        "svr_model = SVR(kernel='rbf')\n",
        "\n",
        "# You would then train this model:\n",
        "# svr_model.fit(X_train, y_train)\n",
        "# y_pred_svr = svr_model.predict(X_test)"
      ],
      "execution_count": null,
      "outputs": []
    },
    {
      "cell_type": "markdown",
      "metadata": {
        "id": "3e336678"
      },
      "source": [
        "You can import these models and train them using your `X_train` and `y_train` data, similar to how you trained your `LinearRegression` model. Remember to evaluate their performance using appropriate regression metrics."
      ]
    }
  ]
}
