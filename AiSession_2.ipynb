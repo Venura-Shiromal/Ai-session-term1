{
  "nbformat": 4,
  "nbformat_minor": 0,
  "metadata": {
    "colab": {
      "provenance": [],
      "authorship_tag": "ABX9TyPJYse/SwXYhsmY1Z+e1wV8",
      "include_colab_link": true
    },
    "kernelspec": {
      "name": "python3",
      "display_name": "Python 3"
    },
    "language_info": {
      "name": "python"
    }
  },
  "cells": [
    {
      "cell_type": "markdown",
      "metadata": {
        "id": "view-in-github",
        "colab_type": "text"
      },
      "source": [
        "<a href=\"https://colab.research.google.com/github/Venura-Shiromal/Ai-session-term1/blob/main/AiSession_2.ipynb\" target=\"_parent\"><img src=\"https://colab.research.google.com/assets/colab-badge.svg\" alt=\"Open In Colab\"/></a>"
      ]
    },
    {
      "cell_type": "markdown",
      "source": [
        "Calculating Moving Median of a list"
      ],
      "metadata": {
        "id": "T_pS5wePPE2U"
      }
    },
    {
      "cell_type": "markdown",
      "source": [
        "Importing pre-requirements"
      ],
      "metadata": {
        "id": "lG59OMNKPMpD"
      }
    },
    {
      "cell_type": "code",
      "execution_count": 2,
      "metadata": {
        "id": "pcIYiU3hOzGq"
      },
      "outputs": [],
      "source": [
        "from statistics import median"
      ]
    },
    {
      "cell_type": "markdown",
      "source": [
        "Implementing Number List"
      ],
      "metadata": {
        "id": "ObCwJLvdPR1t"
      }
    },
    {
      "cell_type": "code",
      "source": [
        "numList = [1,4,5,6,2,3,5]"
      ],
      "metadata": {
        "id": "-E2qw9VsPDWa"
      },
      "execution_count": 3,
      "outputs": []
    },
    {
      "cell_type": "markdown",
      "source": [
        "Calculating Median"
      ],
      "metadata": {
        "id": "uBuZNKUTPZum"
      }
    },
    {
      "cell_type": "code",
      "source": [
        "m = median(numList)\n",
        "print(\"Median:\", m)"
      ],
      "metadata": {
        "colab": {
          "base_uri": "https://localhost:8080/"
        },
        "id": "IjGOGA8yPccI",
        "outputId": "84eca0d3-02a6-4f07-98d4-fb70dd2b1373"
      },
      "execution_count": 4,
      "outputs": [
        {
          "output_type": "stream",
          "name": "stdout",
          "text": [
            "Median: 4\n"
          ]
        }
      ]
    },
    {
      "cell_type": "markdown",
      "source": [
        "Now the Moving Median"
      ],
      "metadata": {
        "id": "9dZs-JpdQBtp"
      }
    },
    {
      "cell_type": "code",
      "source": [
        "def moving_median(numbers, window_size):\n",
        "  medians = []\n",
        "  for i in range(len(numbers) - window_size + 1):\n",
        "    window = numbers[i:i + window_size]\n",
        "    medians.append(median(window))\n",
        "\n",
        "  return medians"
      ],
      "metadata": {
        "id": "gjMFbWrrPwgr"
      },
      "execution_count": 9,
      "outputs": []
    },
    {
      "cell_type": "markdown",
      "source": [
        "Output"
      ],
      "metadata": {
        "id": "oh3s42qxRKwC"
      }
    },
    {
      "cell_type": "code",
      "source": [
        "size = 3\n",
        "\n",
        "mm = moving_median(numList, size)\n",
        "print(mm)"
      ],
      "metadata": {
        "colab": {
          "base_uri": "https://localhost:8080/"
        },
        "id": "Dsyrm8XRQJqo",
        "outputId": "251f1879-c41d-42e6-e877-522e6b8d9745"
      },
      "execution_count": 10,
      "outputs": [
        {
          "output_type": "stream",
          "name": "stdout",
          "text": [
            "[4, 5, 5, 3, 3]\n"
          ]
        }
      ]
    }
  ]
}